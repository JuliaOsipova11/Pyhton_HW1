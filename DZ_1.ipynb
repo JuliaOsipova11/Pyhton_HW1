{
 "cells": [
  {
   "cell_type": "markdown",
   "id": "25353e6e",
   "metadata": {},
   "source": [
    "## Домашнее задание 1:\n"
   ]
  },
  {
   "cell_type": "markdown",
   "id": "1e236a85",
   "metadata": {},
   "source": [
    "## Задача 2.\n",
    "На складе лежат разные фрукты в разном количестве.Нужно написать функцию, которая на вход принимает любое количество названий фруктов и их количество, а возвращает общее количество фруктов на складе"
   ]
  },
  {
   "cell_type": "code",
   "execution_count": 13,
   "id": "ad8bea1e",
   "metadata": {},
   "outputs": [
    {
     "name": "stdout",
     "output_type": "stream",
     "text": [
      "Фрукт banana = 5 шт\n",
      "Фрукт mango = 7 шт\n",
      "Фрукт apple = 8 шт\n",
      "Общее количество фруктов = 20\n"
     ]
    }
   ],
   "source": [
    "def total_fruits(**kwargs):\n",
    "    {print(f\"Фрукт {name} = {values} шт\")\n",
    "     for name, values in kwargs.items()}\n",
    "    return print(f'Общее количество фруктов = {sum(kwargs.values())}')\n",
    "    \n",
    "total_fruits(banana=5, mango=7, apple=8)"
   ]
  },
  {
   "cell_type": "markdown",
   "id": "c2d210c1",
   "metadata": {},
   "source": [
    "## Задача 3.\n",
    "Дан список с затратами на рекламу. Но в данных есть ошибки, некоторые затраты имеют отрицательную величину. Удалите такие значения из списка и посчитайте суммарные затраты\n",
    "[100, 125, -90, 345, 655, -1, 0, 200]\n",
    "Используйте list comprehensions"
   ]
  },
  {
   "cell_type": "code",
   "execution_count": 105,
   "id": "1713c880",
   "metadata": {},
   "outputs": [
    {
     "data": {
      "text/plain": [
       "1425"
      ]
     },
     "execution_count": 105,
     "metadata": {},
     "output_type": "execute_result"
    }
   ],
   "source": [
    "costs = [100, 125, -90, 345, 655, -1, 0, 200]\n",
    "adv_costs = sum([i for i in costs if i >= 0])\n",
    "adv_costs"
   ]
  },
  {
   "cell_type": "markdown",
   "id": "8cada205",
   "metadata": {},
   "source": [
    "## Задача 4\n",
    "Оформление ноутбука и закрепление функций и генераторов\n",
    "\n",
    "Даны два списка.\n",
    "\n",
    "Дата покупки\n",
    "\n",
    "['2021-09-14', '2021-12-15', '2021-09-08', '2021-12-05', '2021-10-09', '2021-09-30', '2021-12-22', '2021-11-29', '2021-12-24', '2021-11-26', '2021-10-27', '2021-12-18', '2021-11-09', '2021-11-23', '2021-09-27', \n",
    "'2021-10-02', '2021-12-27', '2021-09-20', '2021-12-13', '2021-11-01', '2021-11-09', '2021-12-06', '2021-12-08', '2021-10-09', '2021-10-31', '2021-09-30', '2021-11-09', '2021-12-13', '2021-10-26', '2021-12-09']\n",
    "\n",
    "Суммы покупок по датам\n",
    "\n",
    "[1270, 8413, 9028, 3703, 5739, 4095, 295, 4944, 5723, 3701, 4471, 651, 7037, 4274, 6275, 4988, 6930, 2971, 6592, 2004, 2822, 519, 3406, 2732, 5015, 2008, 316, 6333, 5700, 2887]\n"
   ]
  },
  {
   "cell_type": "markdown",
   "id": "7fba822f",
   "metadata": {},
   "source": [
    "### 4.1 Найдите, какая выручка у компании в ноябре\n",
    "Используйте list comprehensions"
   ]
  },
  {
   "cell_type": "code",
   "execution_count": 137,
   "id": "a18eff6a",
   "metadata": {},
   "outputs": [],
   "source": [
    "date_sheet = ['2021-09-14', '2021-12-15', '2021-09-08', '2021-12-05', '2021-10-09', '2021-09-30', '2021-12-22', '2021-11-29', '2021-12-24', '2021-11-26', '2021-10-27', '2021-12-18', '2021-11-09', '2021-11-23', '2021-09-27', '2021-10-02', '2021-12-27', '2021-09-20', '2021-12-13', '2021-11-01', '2021-11-09', '2021-12-06', '2021-12-08', '2021-10-09', '2021-10-31', '2021-09-30', '2021-11-09', '2021-12-13', '2021-10-26', '2021-12-09']\n",
    "amounts_by_dates = [1270, 8413, 9028, 3703, 5739, 4095, 295, 4944, 5723, 3701, 4471, 651, 7037, 4274, 6275, 4988, 6930, 2971, 6592,\n",
    "         2004, 2822, 519, 3406, 2732, 5015, 2008, 316, 6333, 5700, 2887]"
   ]
  },
  {
   "cell_type": "code",
   "execution_count": 138,
   "id": "54fe4f9c",
   "metadata": {},
   "outputs": [],
   "source": [
    "November_Total = sum([amounts_by_dates[i] for i in range(len(amounts_by_dates)) if '-11-' in date_sheet [i] ])"
   ]
  },
  {
   "cell_type": "code",
   "execution_count": 139,
   "id": "d1e912b5",
   "metadata": {},
   "outputs": [
    {
     "data": {
      "text/plain": [
       "25098"
      ]
     },
     "execution_count": 139,
     "metadata": {},
     "output_type": "execute_result"
    }
   ],
   "source": [
    "November_Total"
   ]
  },
  {
   "cell_type": "markdown",
   "id": "ad1cff2c",
   "metadata": {},
   "source": [
    "### 4.2 Найдите выручку компании в зависимости от месяца\n",
    "Для этого напишите функцию, которая на вход принимает список с датами и список с выручкой, а на выходе словарь, где \n",
    "ключи - это месяцы, а значения - это выручка.\n",
    "Используйте аннотирование типов."
   ]
  },
  {
   "cell_type": "code",
   "execution_count": 140,
   "id": "24fa8f7f",
   "metadata": {},
   "outputs": [],
   "source": [
    "def revenue_by_month(date_sheet: list, amounts_by_dates: list) -> dict:\n",
    "        result = {}\n",
    "\n",
    "        for i in range(len(date_sheet)):\n",
    "            month = date_sheet[i][5:7]\n",
    "            \n",
    "            if month in result:\n",
    "                 result[month] += amounts_by_dates[i]\n",
    "            else:\n",
    "                result[month] = amounts_by_dates[i]\n",
    "        return result\n",
    "    "
   ]
  },
  {
   "cell_type": "code",
   "execution_count": 141,
   "id": "987108db",
   "metadata": {},
   "outputs": [
    {
     "data": {
      "text/plain": [
       "{'09': 25647, '12': 45452, '10': 28645, '11': 25098}"
      ]
     },
     "execution_count": 141,
     "metadata": {},
     "output_type": "execute_result"
    }
   ],
   "source": [
    "revenue_by_month(date_sheet, amounts_by_dates)"
   ]
  },
  {
   "cell_type": "code",
   "execution_count": null,
   "id": "896a8e45",
   "metadata": {},
   "outputs": [],
   "source": []
  }
 ],
 "metadata": {
  "kernelspec": {
   "display_name": "Python 3 (ipykernel)",
   "language": "python",
   "name": "python3"
  },
  "language_info": {
   "codemirror_mode": {
    "name": "ipython",
    "version": 3
   },
   "file_extension": ".py",
   "mimetype": "text/x-python",
   "name": "python",
   "nbconvert_exporter": "python",
   "pygments_lexer": "ipython3",
   "version": "3.11.3"
  }
 },
 "nbformat": 4,
 "nbformat_minor": 5
}
